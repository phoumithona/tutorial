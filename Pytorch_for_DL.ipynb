{
  "nbformat": 4,
  "nbformat_minor": 0,
  "metadata": {
    "colab": {
      "name": "Pytorch for DL.ipynb",
      "provenance": [],
      "collapsed_sections": [],
      "authorship_tag": "ABX9TyPtb5Y6bzIX1OFku0cO8cM1",
      "include_colab_link": true
    },
    "kernelspec": {
      "name": "python3",
      "display_name": "Python 3"
    }
  },
  "cells": [
    {
      "cell_type": "markdown",
      "metadata": {
        "id": "view-in-github",
        "colab_type": "text"
      },
      "source": [
        "<a href=\"https://colab.research.google.com/github/phoumithona/tutorial/blob/master/Pytorch_for_DL.ipynb\" target=\"_parent\"><img src=\"https://colab.research.google.com/assets/colab-badge.svg\" alt=\"Open In Colab\"/></a>"
      ]
    },
    {
      "cell_type": "code",
      "metadata": {
        "id": "11kwYD2oHgdT",
        "colab_type": "code",
        "colab": {
          "base_uri": "https://localhost:8080/",
          "height": 188
        },
        "outputId": "0a55132e-63f2-4f02-90e4-addbcca4a680"
      },
      "source": [
        "import numpy as np\n",
        "import torch\n",
        "\n",
        "# input (temp, rainfall, humidity)\n",
        "inputs = np.array([[73, 67, 43],\n",
        "                   [91, 88, 64],\n",
        "                   [87, 134, 58],\n",
        "                   [102, 43, 37],\n",
        "                   [69, 96, 70]], dtype='float32')\n",
        "\n",
        "# targets (apples, oranges)\n",
        "targets = np.array([[56, 70],\n",
        "                    [81, 101],\n",
        "                    [119, 133],\n",
        "                    [22, 37],\n",
        "                    [103, 119]], dtype='float32')\n",
        "\n",
        "# convert inputs and targets to tensors\n",
        "inputs = torch.from_numpy(inputs)\n",
        "targets = torch.from_numpy(targets)\n",
        "print(inputs)\n",
        "print(targets)"
      ],
      "execution_count": 8,
      "outputs": [
        {
          "output_type": "stream",
          "text": [
            "tensor([[ 73.,  67.,  43.],\n",
            "        [ 91.,  88.,  64.],\n",
            "        [ 87., 134.,  58.],\n",
            "        [102.,  43.,  37.],\n",
            "        [ 69.,  96.,  70.]])\n",
            "tensor([[ 56.,  70.],\n",
            "        [ 81., 101.],\n",
            "        [119., 133.],\n",
            "        [ 22.,  37.],\n",
            "        [103., 119.]])\n"
          ],
          "name": "stdout"
        }
      ]
    },
    {
      "cell_type": "code",
      "metadata": {
        "id": "3XsHxHmjJXe6",
        "colab_type": "code",
        "colab": {
          "base_uri": "https://localhost:8080/",
          "height": 68
        },
        "outputId": "17d8ff56-c34b-47a1-fb90-eb8b7a278542"
      },
      "source": [
        "# weights an biases\n",
        "# yield_apples  = w11*temp + w12*rainfall + w13*humidity + b1\n",
        "# yield_oranges = w21*temp + w22*rainfall + w23*humidity + b2\n",
        "w = torch.randn(2, 3, requires_grad=True)\n",
        "b = torch.randn(2, requires_grad=True)\n",
        "print(w)\n",
        "print(b)"
      ],
      "execution_count": 9,
      "outputs": [
        {
          "output_type": "stream",
          "text": [
            "tensor([[-0.4049, -0.7341,  0.0313],\n",
            "        [ 0.3274,  0.3072,  0.2080]], requires_grad=True)\n",
            "tensor([1.3976, 0.2332], requires_grad=True)\n"
          ],
          "name": "stdout"
        }
      ]
    },
    {
      "cell_type": "code",
      "metadata": {
        "id": "Yr5HbR1vLGMN",
        "colab_type": "code",
        "colab": {}
      },
      "source": [
        " def model(x):\n",
        "   return x @ w.t() + b"
      ],
      "execution_count": 13,
      "outputs": []
    },
    {
      "cell_type": "code",
      "metadata": {
        "id": "CRDC4CRLL98M",
        "colab_type": "code",
        "colab": {
          "base_uri": "https://localhost:8080/",
          "height": 188
        },
        "outputId": "2666abe8-e90d-447e-e906-e1f247b271f8"
      },
      "source": [
        "# generate predictions\n",
        "preds = model(inputs)\n",
        "print(preds)\n",
        "# compare with targets\n",
        "print(targets)"
      ],
      "execution_count": 17,
      "outputs": [
        {
          "output_type": "stream",
          "text": [
            "tensor([[ -75.9924,   53.6566],\n",
            "        [ -98.0373,   70.3679],\n",
            "        [-130.3733,   81.9409],\n",
            "        [ -70.3034,   54.5307],\n",
            "        [ -94.8151,   66.8706]], grad_fn=<AddBackward0>)\n",
            "tensor([[ 56.,  70.],\n",
            "        [ 81., 101.],\n",
            "        [119., 133.],\n",
            "        [ 22.,  37.],\n",
            "        [103., 119.]])\n"
          ],
          "name": "stdout"
        }
      ]
    },
    {
      "cell_type": "code",
      "metadata": {
        "id": "31-XmtxbMGDE",
        "colab_type": "code",
        "colab": {
          "base_uri": "https://localhost:8080/",
          "height": 34
        },
        "outputId": "bca8ca79-37df-4d33-9459-8bf7560d3348"
      },
      "source": [
        "# MSE loss\n",
        "def mse(t1, t2):\n",
        "  diff = t1 - t2\n",
        "  return torch.sum(diff * diff) / diff.numel()\n",
        "\n",
        "# compute loss\n",
        "loss = mse(preds, targets)\n",
        "print(loss)"
      ],
      "execution_count": 19,
      "outputs": [
        {
          "output_type": "stream",
          "text": [
            "tensor(16615.1445, grad_fn=<DivBackward0>)\n"
          ],
          "name": "stdout"
        }
      ]
    },
    {
      "cell_type": "code",
      "metadata": {
        "id": "RvvBxF7ZNnqr",
        "colab_type": "code",
        "colab": {
          "base_uri": "https://localhost:8080/",
          "height": 86
        },
        "outputId": "b54895f1-0a38-4cd9-b3f5-982c45a90810"
      },
      "source": [
        "# compute gradients\n",
        "loss.backward()\n",
        "# gradients for weights\n",
        "print(w)\n",
        "print(w.grad)"
      ],
      "execution_count": 20,
      "outputs": [
        {
          "output_type": "stream",
          "text": [
            "tensor([[-0.4049, -0.7341,  0.0313],\n",
            "        [ 0.3274,  0.3072,  0.2080]], requires_grad=True)\n",
            "tensor([[-14137.5029, -16194.8213,  -9772.0000],\n",
            "        [ -2046.3046,  -2976.6304,  -1725.0134]])\n"
          ],
          "name": "stdout"
        }
      ]
    },
    {
      "cell_type": "code",
      "metadata": {
        "id": "LPnhsna9OKFs",
        "colab_type": "code",
        "colab": {
          "base_uri": "https://localhost:8080/",
          "height": 51
        },
        "outputId": "e4d84ed8-152f-45a3-f404-e365551a4254"
      },
      "source": [
        "print(b)\n",
        "print(b.grad)"
      ],
      "execution_count": 21,
      "outputs": [
        {
          "output_type": "stream",
          "text": [
            "tensor([1.3976, 0.2332], requires_grad=True)\n",
            "tensor([-170.1043,  -26.5266])\n"
          ],
          "name": "stdout"
        }
      ]
    },
    {
      "cell_type": "code",
      "metadata": {
        "id": "Xb90qY2NOa7F",
        "colab_type": "code",
        "colab": {
          "base_uri": "https://localhost:8080/",
          "height": 68
        },
        "outputId": "1da0f194-9744-4d1c-a892-ec98d4766a0f"
      },
      "source": [
        "w.grad.zero_()\n",
        "b.grad.zero_()\n",
        "print(w.grad)\n",
        "print(b.grad)"
      ],
      "execution_count": 22,
      "outputs": [
        {
          "output_type": "stream",
          "text": [
            "tensor([[0., 0., 0.],\n",
            "        [0., 0., 0.]])\n",
            "tensor([0., 0.])\n"
          ],
          "name": "stdout"
        }
      ]
    },
    {
      "cell_type": "code",
      "metadata": {
        "id": "iYwZfvZmPsV1",
        "colab_type": "code",
        "colab": {
          "base_uri": "https://localhost:8080/",
          "height": 223
        },
        "outputId": "20c52d4a-caeb-486c-a69e-63938cdb23c9"
      },
      "source": [
        "# gradient descent optimization algorithm 5 steps:\n",
        "# 1. generate predictions\n",
        "preds = model(inputs)\n",
        "print(preds)\n",
        "# 2. calculate the loss\n",
        "loss = mse(preds, targets)\n",
        "print(loss)\n",
        "# 3. compute gradients : weights and biases\n",
        "loss.backward()\n",
        "print(w.grad)\n",
        "print(b.grad)\n",
        "# 4. adjust weights\n",
        "with torch.no_grad():\n",
        "  w -= w.grad * 1e-5\n",
        "  b -= b.grad * 1e-5\n",
        "  w.grad.zero_()\n",
        "  b.grad.zero_()\n",
        "print(w)\n",
        "print(b)\n",
        "# 5. reset gradients to zero\n"
      ],
      "execution_count": 29,
      "outputs": [
        {
          "output_type": "stream",
          "text": [
            "tensor([[-25.2433,  62.1170],\n",
            "        [-31.2926,  81.5396],\n",
            "        [-51.0330,  95.4803],\n",
            "        [-20.3007,  62.5421],\n",
            "        [-30.5271,  77.8252]], grad_fn=<AddBackward0>)\n",
            "tensor(7193.6514, grad_fn=<DivBackward0>)\n",
            "tensor([[ -8894.0605, -10549.4023,  -6290.8262],\n",
            "        [ -1169.2661,  -2024.5562,  -1139.5505]])\n",
            "tensor([-107.8793,  -16.0991])\n",
            "tensor([[-0.0332, -0.3047,  0.2897],\n",
            "        [ 0.3800,  0.3870,  0.2539]], requires_grad=True)\n",
            "tensor([1.4021, 0.2339], requires_grad=True)\n"
          ],
          "name": "stdout"
        }
      ]
    },
    {
      "cell_type": "code",
      "metadata": {
        "id": "vUFqhFUzQnDO",
        "colab_type": "code",
        "colab": {
          "base_uri": "https://localhost:8080/",
          "height": 34
        },
        "outputId": "d4d1c300-2a6d-431e-b4d8-49f0da31989a"
      },
      "source": [
        "# calculate loss\n",
        "preds = model(inputs)\n",
        "loss = mse(preds, targets)\n",
        "print(loss)"
      ],
      "execution_count": 31,
      "outputs": [
        {
          "output_type": "stream",
          "text": [
            "tensor(5037.5518, grad_fn=<DivBackward0>)\n"
          ],
          "name": "stdout"
        }
      ]
    },
    {
      "cell_type": "code",
      "metadata": {
        "id": "JP4UVZAOSMsf",
        "colab_type": "code",
        "colab": {}
      },
      "source": [
        "# train for 100 epochs\n",
        "for i in range(1000):\n",
        "  preds = model(inputs)\n",
        "  loss = mse(preds, targets)\n",
        "  loss.backward()\n",
        "  with torch.no_grad():\n",
        "    w -= w.grad * 1e-5\n",
        "    b -= b.grad * 1e-5\n",
        "    w.grad.zero_()\n",
        "    b.grad.zero_()"
      ],
      "execution_count": 40,
      "outputs": []
    },
    {
      "cell_type": "code",
      "metadata": {
        "id": "GqpyaBr9TDnC",
        "colab_type": "code",
        "colab": {
          "base_uri": "https://localhost:8080/",
          "height": 34
        },
        "outputId": "91abb902-fd85-4ecf-f244-02d6a4a7024d"
      },
      "source": [
        "# calculate loss\n",
        "preds = model(inputs)\n",
        "loss = mse(preds, targets)\n",
        "print(loss)"
      ],
      "execution_count": 41,
      "outputs": [
        {
          "output_type": "stream",
          "text": [
            "tensor(1.2437, grad_fn=<DivBackward0>)\n"
          ],
          "name": "stdout"
        }
      ]
    },
    {
      "cell_type": "code",
      "metadata": {
        "id": "psgUw_9iTNAH",
        "colab_type": "code",
        "colab": {
          "base_uri": "https://localhost:8080/",
          "height": 188
        },
        "outputId": "1a27b1a7-5167-47f8-8b38-5b1e572bcc5d"
      },
      "source": [
        "# predictions\n",
        "print(preds)\n",
        "print(targets)"
      ],
      "execution_count": 42,
      "outputs": [
        {
          "output_type": "stream",
          "text": [
            "tensor([[ 57.4035,  70.4473],\n",
            "        [ 82.0288,  99.8120],\n",
            "        [118.7193, 134.6886],\n",
            "        [ 21.0712,  37.4977],\n",
            "        [101.8928, 117.4092]], grad_fn=<AddBackward0>)\n",
            "tensor([[ 56.,  70.],\n",
            "        [ 81., 101.],\n",
            "        [119., 133.],\n",
            "        [ 22.,  37.],\n",
            "        [103., 119.]])\n"
          ],
          "name": "stdout"
        }
      ]
    },
    {
      "cell_type": "code",
      "metadata": {
        "id": "OeivdihhTRqO",
        "colab_type": "code",
        "colab": {}
      },
      "source": [
        ""
      ],
      "execution_count": null,
      "outputs": []
    }
  ]
}